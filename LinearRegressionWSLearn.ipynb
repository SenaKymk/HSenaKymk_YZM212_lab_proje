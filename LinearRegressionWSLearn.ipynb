{
  "nbformat": 4,
  "nbformat_minor": 0,
  "metadata": {
    "colab": {
      "provenance": [],
      "authorship_tag": "ABX9TyONp8bLvr2x3qg3fjWj7S5t",
      "include_colab_link": true
    },
    "kernelspec": {
      "name": "python3",
      "display_name": "Python 3"
    },
    "language_info": {
      "name": "python"
    }
  },
  "cells": [
    {
      "cell_type": "markdown",
      "metadata": {
        "id": "view-in-github",
        "colab_type": "text"
      },
      "source": [
        "<a href=\"https://colab.research.google.com/github/SenaKymk/HSenaKymk_YZM212_lab_proje/blob/main/LinearRegressionWSLearn.ipynb\" target=\"_parent\"><img src=\"https://colab.research.google.com/assets/colab-badge.svg\" alt=\"Open In Colab\"/></a>"
      ]
    },
    {
      "cell_type": "code",
      "execution_count": 2,
      "metadata": {
        "id": "xLcU6IySrwcn"
      },
      "outputs": [],
      "source": [
        "import pandas as pd\n",
        "import numpy as np\n",
        "from sklearn.metrics import mean_squared_error, r2_score\n"
      ]
    },
    {
      "cell_type": "code",
      "source": [
        "\n",
        "veri = pd.read_csv(\"/content/Student_Performance.csv\")\n",
        "\n",
        "veri[\"Extracurricular Activities\"] = veri[\"Extracurricular Activities\"].map({\"Yes\": 1, \"No\": 0})\n"
      ],
      "metadata": {
        "id": "cDBKhTs3u4PR"
      },
      "execution_count": 16,
      "outputs": []
    },
    {
      "cell_type": "code",
      "source": [
        "X = veri[[\"Hours Studied\", \"Previous Scores\", \"Extracurricular Activities\",\n",
        "          \"Sleep Hours\", \"Sample Question Papers Practiced\"]]\n",
        "y = veri[\"Performance Index\"].values.reshape(-1, 1)\n"
      ],
      "metadata": {
        "id": "JD4Xmsalu_7O"
      },
      "execution_count": 17,
      "outputs": []
    },
    {
      "cell_type": "code",
      "source": [
        "from sklearn.preprocessing import StandardScaler\n",
        "import numpy as np\n",
        "\n",
        "scaler = StandardScaler()\n",
        "X_scaled = scaler.fit_transform(X)\n",
        "\n",
        "X_scaled = np.c_[np.ones(X_scaled.shape[0]), X_scaled]\n"
      ],
      "metadata": {
        "id": "1NoED0UBvCVh"
      },
      "execution_count": 18,
      "outputs": []
    },
    {
      "cell_type": "code",
      "source": [
        "def compute_cost(X, y, theta):\n",
        "    m = len(y)\n",
        "    return (1 / (2 * m)) * np.sum((X @ theta - y) ** 2)\n",
        "\n",
        "def gradient_descent(X, y, theta, alpha, epochs):\n",
        "    m = len(y)\n",
        "    cost_history = []\n",
        "\n",
        "    for _ in range(epochs):\n",
        "        gradient = (1 / m) * (X.T @ (X @ theta - y))\n",
        "        theta = theta - alpha * gradient\n",
        "        cost_history.append(compute_cost(X, y, theta))\n",
        "\n",
        "    return theta, cost_history\n"
      ],
      "metadata": {
        "id": "jk48AvTSvDf1"
      },
      "execution_count": 19,
      "outputs": []
    },
    {
      "cell_type": "code",
      "source": [
        "theta = np.zeros((X_scaled.shape[1], 1))\n",
        "alpha = 0.01\n",
        "epochs = 1000\n",
        "\n",
        "theta_final, cost_history = gradient_descent(X_scaled, y, theta, alpha, epochs)\n"
      ],
      "metadata": {
        "id": "BVFm1CpevHPi"
      },
      "execution_count": 20,
      "outputs": []
    },
    {
      "cell_type": "code",
      "source": [
        "from sklearn.metrics import mean_squared_error\n",
        "\n",
        "y_pred = X_scaled @ theta_final\n",
        "mse = mean_squared_error(y, y_pred)\n",
        "print(\"MSE:\", mse)\n"
      ],
      "metadata": {
        "colab": {
          "base_uri": "https://localhost:8080/"
        },
        "id": "vcTX5GJfvJnL",
        "outputId": "feb6079a-0ee6-4659-e43b-e69321fe9d49"
      },
      "execution_count": 21,
      "outputs": [
        {
          "output_type": "stream",
          "name": "stdout",
          "text": [
            "MSE: 4.151357161185328\n"
          ]
        }
      ]
    },
    {
      "cell_type": "code",
      "source": [
        "import matplotlib.pyplot as plt\n",
        "\n",
        "plt.plot(cost_history)\n",
        "plt.xlabel(\"Epoch\")\n",
        "plt.ylabel(\"Cost\")\n",
        "plt.title(\"Cost Function vs. Epoch\")\n",
        "plt.show()\n"
      ],
      "metadata": {
        "colab": {
          "base_uri": "https://localhost:8080/",
          "height": 472
        },
        "id": "egGZr4G4vLvJ",
        "outputId": "80cdc0a6-530f-45ae-f04a-903288a8330f"
      },
      "execution_count": 22,
      "outputs": [
        {
          "output_type": "display_data",
          "data": {
            "text/plain": [
              "<Figure size 640x480 with 1 Axes>"
            ],
            "image/png": "[encoded data removed]"
          },
          "metadata": {}
        }
      ]
    }
  ]
}