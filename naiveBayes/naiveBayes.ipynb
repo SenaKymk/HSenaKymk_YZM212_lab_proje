{
  "nbformat": 4,
  "nbformat_minor": 0,
  "metadata": {
    "colab": {
      "provenance": [],
      "authorship_tag": "ABX9TyP+Lon3qyg5EzL2fw47y3A0",
      "include_colab_link": true
    },
    "kernelspec": {
      "name": "python3",
      "display_name": "Python 3"
    },
    "language_info": {
      "name": "python"
    }
  },
  "cells": [
    {
      "cell_type": "markdown",
      "metadata": {
        "id": "view-in-github",
        "colab_type": "text"
      },
      "source": [
        "<a href=\"https://colab.research.google.com/github/SenaKymk/naive_bayes_YZM212_lab/blob/main/naiveBayes.ipynb\" target=\"_parent\"><img src=\"https://colab.research.google.com/assets/colab-badge.svg\" alt=\"Open In Colab\"/></a>"
      ]
    },
    {
      "cell_type": "markdown",
      "source": [
        "# Naive Bayes Algoritmasının Manuel Olarak Uygulanması\n",
        "\n",
        "Bu notebook, **Scikit-Learn kütüphanesi kullanmadan** Gaussian Naive Bayes algoritmasını Python ile sıfırdan uygulamak için hazırlanmıştır.\n",
        "\n",
        "📌 **Adımlar:**\n",
        "1. **Naive Bayes Classı Algoritmasını Sıfırdan Yazma**\n",
        "2. **Veri Setini Yükleme**\n",
        "3. **Veriyi Eğitim ve Test Setlerine Ayırma**\n",
        "4. **Modeli Eğitme ve Tahmin Yapma** 📊\n",
        "5. **Modelin Performansını Değerlendirme** ✅\n",
        "6. **Scikit-Learn ile Karşılaştırma** ⚖️\n",
        "\n",
        ""
      ],
      "metadata": {
        "id": "Rxs97wvAaq5O"
      }
    },
    {
      "cell_type": "code",
      "execution_count": 7,
      "metadata": {
        "id": "5wM5F2EuVcBu"
      },
      "outputs": [],
      "source": [
        "#gerekli kütüphaneler eklenir\n",
        "from sklearn.naive_bayes import GaussianNB\n",
        "from sklearn.metrics import classification_report, confusion_matrix\n",
        "from sklearn.model_selection import train_test_split\n",
        "import time\n",
        "import seaborn as sns\n",
        "import pandas as pd\n",
        "import numpy as np\n",
        "import matplotlib.pyplot as plt\n"
      ]
    },
    {
      "cell_type": "markdown",
      "source": [
        "##  1. Gaussian Naive Bayes Algoritmasını Sıfırdan Yazma\n",
        "\n",
        "\n",
        "**Temel prensibi:** **Her özelliğin (feature) bağımsız olduğu varsayılır** ve **Bayes Teoremi** kullanılarak olasılık hesaplamaları yapılır.  \n",
        "\n",
        "Bu adımda, **kendi Naive Bayes sınıfımızı (class) yazıyoruz**.  \n",
        "\n",
        "1. **Modeli eğitirken:** Her sınıf için **ortalama (mean), standart sapma (std) ve öncelik olasılığı (prior probability)** hesaplanır.\n",
        "2. **Tahmin yaparken:** Verilen bir girişin **her sınıfa ait olma olasılığı** hesaplanır ve en yüksek olasılığa sahip sınıf tahmin edilir.\n"
      ],
      "metadata": {
        "id": "sSjRIh50b9SX"
      }
    },
    {
      "cell_type": "code",
      "source": [
        "class MyGaussianNB:\n",
        "    def fit(self, X, y):\n",
        "        self.classes = np.unique(y)\n",
        "        self.means = {}\n",
        "        self.stds = {}\n",
        "        self.priors = {}\n",
        "\n",
        "        for c in self.classes:\n",
        "            X_c = X[y == c]\n",
        "            self.means[c] = np.mean(X_c, axis=0)\n",
        "            self.stds[c] = np.std(X_c, axis=0) + 1e-6  # Bölme hatasını önlemek için epsilon ekliyoruz\n",
        "            self.priors[c] = X_c.shape[0] / X.shape[0]\n",
        "\n",
        "    def predict(self, X):\n",
        "        return np.array([self._predict(x) for x in X])\n",
        "\n",
        "    def _predict(self, x):\n",
        "        posteriors = []\n",
        "        for c in self.classes:\n",
        "            prior = np.log(self.priors[c])\n",
        "            likelihood = np.sum(np.log(self._pdf(c, x)))\n",
        "            posterior = prior + likelihood\n",
        "            posteriors.append(posterior)\n",
        "        return self.classes[np.argmax(posteriors)]\n",
        "\n",
        "    def _pdf(self, class_idx, x):\n",
        "        mean = self.means[class_idx]\n",
        "        std = self.stds[class_idx]\n",
        "        return (1 / (np.sqrt(2 * np.pi) * std)) * np.exp(-((x - mean) ** 2) / (2 * std ** 2))\n",
        "\n"
      ],
      "metadata": {
        "id": "nv05xrnCVq4m"
      },
      "execution_count": 12,
      "outputs": []
    },
    {
      "cell_type": "markdown",
      "source": [
        "## 2. Veri Setini Yükleme ve Hazırlama\n",
        "\n",
        "Bu adımda, önceden temizlenmiş **\"diabetes_veri_temiz.csv\"** dosyasını yüklüyoruz.  \n",
        "Bu veri seti, **diyabet hastalığını tahmin etmek için** çeşitli sağlık ölçümlerini içermektedir.  \n",
        "Hedef değişkenimiz **\"Outcome\"** olup, **1 = Diyabet var, 0 = Diyabet yok** olarak kodlanmıştır.\n"
      ],
      "metadata": {
        "id": "n17gpM8rbHF6"
      }
    },
    {
      "cell_type": "code",
      "source": [
        "# Veriyi yükle\n",
        "df = pd.read_csv(\"/content/diabetes_veri_temiz.csv\")\n",
        "X = df.drop(columns=[\"Outcome\"]).to_numpy()\n",
        "y = df[\"Outcome\"].to_numpy()\n"
      ],
      "metadata": {
        "id": "Oyu8Itu2WQkT"
      },
      "execution_count": 13,
      "outputs": []
    },
    {
      "cell_type": "markdown",
      "source": [
        "## 3. Veriyi Eğitim ve Test Setlerine Ayırma\n",
        "\n",
        "Makine öğrenmesi modellerinde, veriyi **eğitim (train) ve test (test) seti** olarak bölmemiz gerekir.  \n",
        "- **Eğitim seti (%80)**  Model bu verilerle öğrenir.  \n",
        "- **Test seti (%20)**  Modelin performansını değerlendirmek için kullanılır.  \n",
        "\n",
        "Bu bölme işlemini gerçekleştirmek için `train_test_split` fonksiyonunu kullanıyoruz.train_test_split rastgele sayılar atar ve her çalıştırmada farklı sonuçlar üretebilir. random_state belirli bir sabit değere ayarlandığında, her çalıştırmada aynı bölme işlemi yapılır ve aynı sonuçlar elde edilir.Bu yüzden randomstate kullanmamız önemli.\n"
      ],
      "metadata": {
        "id": "6e8gGM5pbYac"
      }
    },
    {
      "cell_type": "code",
      "source": [
        "# Veriyi eğitim ve test setlerine ayır\n",
        "X_train, X_test, y_train, y_test = train_test_split(X, y, test_size=0.2, random_state=42)"
      ],
      "metadata": {
        "id": "P1wCnnocWXBr"
      },
      "execution_count": 14,
      "outputs": []
    },
    {
      "cell_type": "markdown",
      "source": [
        "##  4. Modeli Eğitme ve Test Etme\n",
        "\n",
        "Bu adımda, **kendi yazdığımız Naive Bayes modelini eğitiyoruz** ve test verisi üzerinde tahminler yapıyoruz.\n"
      ],
      "metadata": {
        "id": "6wVWFBRkcLJO"
      }
    },
    {
      "cell_type": "code",
      "source": [
        "# Kendi modelimizi oluştur ve eğit\n",
        "nb = MyGaussianNB()\n",
        "start_time = time.time()\n",
        "nb.fit(X_train, y_train)\n",
        "train_time_custom = time.time() - start_time"
      ],
      "metadata": {
        "id": "G5eFCPooWaM1"
      },
      "execution_count": 15,
      "outputs": []
    },
    {
      "cell_type": "code",
      "source": [
        "# Tahmin yap\n",
        "start_time = time.time()\n",
        "y_pred_custom = nb.predict(X_test)\n",
        "test_time_custom = time.time() - start_time"
      ],
      "metadata": {
        "id": "xsKN5WbAWc5_"
      },
      "execution_count": 16,
      "outputs": []
    },
    {
      "cell_type": "markdown",
      "source": [
        "##  5. Modelin Performansını Değerlendirme\n",
        "\n",
        "Modelin başarısını ölçmek için:\n",
        "- **Karmaşıklık matrisi (confusion matrix)**\n",
        "- **Doğruluk, hassasiyet, duyarlılık gibi metrikler**\n",
        "hesaplanacaktır.\n"
      ],
      "metadata": {
        "id": "4AmMy0nFcnwf"
      }
    },
    {
      "cell_type": "code",
      "source": [
        "# Performans değerlendirme\n",
        "print(\"\\nÖzel Naive Bayes - Sınıflandırma Raporu:\\n\", classification_report(y_test, y_pred_custom))\n",
        "\n",
        "sns.heatmap(confusion_matrix(y_test, y_pred_custom), annot=True, fmt=\"d\", cmap=\"Reds\")\n",
        "plt.xlabel(\"Tahmin Edilen\")\n",
        "plt.ylabel(\"Gerçek\")\n",
        "plt.title(\"Karmaşıklık Matrisi - Kendi Modelin\")\n",
        "plt.show()\n",
        "\n",
        "print(f\"Özel Naive Bayes - Eğitim Süresi: {train_time_custom:.4f} saniye\")\n",
        "print(f\"Özel Naive Bayes - Test Süresi: {test_time_custom:.4f} saniye\")"
      ],
      "metadata": {
        "colab": {
          "base_uri": "https://localhost:8080/",
          "height": 698
        },
        "id": "2EdgxWNlWgWD",
        "outputId": "21388f09-d2e4-441e-addc-db76348f1c37"
      },
      "execution_count": 17,
      "outputs": [
        {
          "output_type": "stream",
          "name": "stdout",
          "text": [
            "\n",
            "Özel Naive Bayes - Sınıflandırma Raporu:\n",
            "               precision    recall  f1-score   support\n",
            "\n",
            "           0       0.81      0.80      0.81        99\n",
            "           1       0.65      0.67      0.66        55\n",
            "\n",
            "    accuracy                           0.75       154\n",
            "   macro avg       0.73      0.74      0.73       154\n",
            "weighted avg       0.76      0.75      0.75       154\n",
            "\n"
          ]
        },
        {
          "output_type": "display_data",
          "data": {
            "text/plain": [
              "<Figure size 640x480 with 2 Axes>"
            ],
            "image/png": "[encoded data removed]"
          },
          "metadata": {}
        },
        {
          "output_type": "stream",
          "name": "stdout",
          "text": [
            "Özel Naive Bayes - Eğitim Süresi: 0.0015 saniye\n",
            "Özel Naive Bayes - Test Süresi: 0.0144 saniye\n"
          ]
        }
      ]
    }
  ]
}
