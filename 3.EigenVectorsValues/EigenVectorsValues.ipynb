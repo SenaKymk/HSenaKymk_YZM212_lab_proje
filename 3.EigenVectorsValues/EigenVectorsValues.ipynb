{
  "nbformat": 4,
  "nbformat_minor": 0,
  "metadata": {
    "colab": {
      "provenance": [],
      "authorship_tag": "ABX9TyM+JkBBO1ZYDOm0t7fjNc85",
      "include_colab_link": true
    },
    "kernelspec": {
      "name": "python3",
      "display_name": "Python 3"
    },
    "language_info": {
      "name": "python"
    }
  },
  "cells": [
    {
      "cell_type": "markdown",
      "metadata": {
        "id": "view-in-github",
        "colab_type": "text"
      },
      "source": [
        "<a href=\"https://colab.research.google.com/github/SenaKymk/HSenaKymk_YZM212_lab_proje/blob/main/EigenVectorsValues_ipynp_.ipynb\" target=\"_parent\"><img src=\"https://colab.research.google.com/assets/colab-badge.svg\" alt=\"Open In Colab\"/></a>"
      ]
    },
    {
      "cell_type": "markdown",
      "source": [
        "# **Manuel Özdeğer Hesaplama**\n",
        "\n",
        "[LucasBn](https://github.com/LucasBN/Eigenvalues-and-Eigenvectors)'in reposunda, özdeğerler karakteristik polinom aracılığıyla hesaplanıyor. Bu yöntemi kullanarak aşağıdaki adımları izleyebiliriz:​\n",
        "\n",
        "1. Karakteristik Polinomu Oluşturma\n",
        "2. Özdeğerleri Bulma"
      ],
      "metadata": {
        "id": "x3ym0R0w4oFc"
      }
    },
    {
      "cell_type": "markdown",
      "source": [
        "##  Manuel Özdeğer Hesaplama (Referans: LucasBN)\n",
        "\n",
        "Bu bölümde, NumPy'in `eig` fonksiyonu kullanılmadan özdeğerlerin manuel olarak nasıl hesaplandığı gösterilmektedir.\n"
      ],
      "metadata": {
        "id": "HWgJy02Z3k1t"
      }
    },
    {
      "cell_type": "code",
      "source": [
        "import numpy as np\n",
        "import matplotlib.pyplot as plt"
      ],
      "metadata": {
        "id": "2Og1ENQx3oOi"
      },
      "execution_count": 16,
      "outputs": []
    },
    {
      "cell_type": "code",
      "source": [
        "A = np.array([[2, 1],\n",
        "              [1, 2]])"
      ],
      "metadata": {
        "id": "IIIvqDiy3qwR"
      },
      "execution_count": 17,
      "outputs": []
    },
    {
      "cell_type": "code",
      "source": [
        "#Karakteristik Denklem için Matris Oluşturma\n",
        "def identity_matrix(n):\n",
        "    return np.identity(n)\n",
        "\n",
        "def subtract_lambda(matrix, lam):\n",
        "    return matrix - lam * identity_matrix(matrix.shape[0])"
      ],
      "metadata": {
        "id": "cH6BDzag3vtx"
      },
      "execution_count": 18,
      "outputs": []
    },
    {
      "cell_type": "code",
      "source": [
        "#Determinant Hesaplama\n",
        "def find_characteristic_polynomial(matrix):\n",
        "    # 2x2 matris için: |A - λI| = (a - λ)(d - λ) - bc\n",
        "    a = matrix[0, 0]\n",
        "    b = matrix[0, 1]\n",
        "    c = matrix[1, 0]\n",
        "    d = matrix[1, 1]\n",
        "\n",
        "    # (a - λ)(d - λ) - bc → λ^2 - (a + d)λ + (ad - bc)\n",
        "    coeff2 = 1\n",
        "    coeff1 = -(a + d)\n",
        "    coeff0 = (a * d - b * c)\n",
        "\n",
        "    return [coeff2, coeff1, coeff0]"
      ],
      "metadata": {
        "id": "wgOJDhs83xaB"
      },
      "execution_count": 19,
      "outputs": []
    },
    {
      "cell_type": "code",
      "source": [
        "char_poly = find_characteristic_polynomial(A)\n",
        "eigenvalues_manual = np.roots(char_poly)\n",
        "print(\"Manuel Özdeğerler:\", eigenvalues_manual)"
      ],
      "metadata": {
        "colab": {
          "base_uri": "https://localhost:8080/"
        },
        "id": "ZZWCatGG30zh",
        "outputId": "1d33087b-c596-4c7f-a4f3-c8f4407f07af"
      },
      "execution_count": 20,
      "outputs": [
        {
          "output_type": "stream",
          "name": "stdout",
          "text": [
            "Manuel Özdeğerler: [3. 1.]\n"
          ]
        }
      ]
    },
    {
      "cell_type": "code",
      "source": [
        "#numpy ile özdeğer hesaplanması\n",
        "eigenvalues_numpy, eigenvectors_numpy = np.linalg.eig(A)\n",
        "print(\"NumPy Özdeğerler:\", eigenvalues_numpy)\n",
        "print(\"NumPy Özvektörler:\\n\", eigenvectors_numpy)"
      ],
      "metadata": {
        "colab": {
          "base_uri": "https://localhost:8080/"
        },
        "id": "63R9abmg34Se",
        "outputId": "89c01806-769e-4357-8527-de2cf9069199"
      },
      "execution_count": 21,
      "outputs": [
        {
          "output_type": "stream",
          "name": "stdout",
          "text": [
            "NumPy Özdeğerler: [3. 1.]\n",
            "NumPy Özvektörler:\n",
            " [[ 0.70710678 -0.70710678]\n",
            " [ 0.70710678  0.70710678]]\n"
          ]
        }
      ]
    },
    {
      "cell_type": "code",
      "source": [
        "#karşılaştırma\n",
        "print(\"Sonuçlar aynı mı?\", np.allclose(np.sort(eigenvalues_manual), np.sort(eigenvalues_numpy)))"
      ],
      "metadata": {
        "colab": {
          "base_uri": "https://localhost:8080/"
        },
        "id": "s7fUzjsx3_AE",
        "outputId": "b632d756-4eaa-4bb1-a0f9-a23102f04622"
      },
      "execution_count": 22,
      "outputs": [
        {
          "output_type": "stream",
          "name": "stdout",
          "text": [
            "Sonuçlar aynı mı? True\n"
          ]
        }
      ]
    },
    {
      "cell_type": "markdown",
      "source": [
        "## 🔄 Özvektör Doğrulama\n",
        "Özvektörler doğrulaması için şu kural kontrol edilir:\n",
        "\\( A \\cdot v = \\lambda \\cdot v \\)"
      ],
      "metadata": {
        "id": "NdfXkxr16Z3p"
      }
    },
    {
      "cell_type": "code",
      "source": [
        "\n",
        "for i in range(len(eigenvalues_numpy)):\n",
        "    Av = A @ eigenvectors_numpy[:, i]\n",
        "    lv = eigenvalues_numpy[i] * eigenvectors_numpy[:, i]\n",
        "    print(f\"\\nÖzdeğer {eigenvalues_numpy[i]:.2f} için doğrulama:\")\n",
        "    print(\"A·v =\", Av)\n",
        "    print(\"λ·v =\", lv)\n",
        "    print(\"Eşit mi:\", np.allclose(Av, lv))"
      ],
      "metadata": {
        "colab": {
          "base_uri": "https://localhost:8080/"
        },
        "id": "t7-aPRnh6QYG",
        "outputId": "57e27d24-cfd2-4c6b-f26f-5db6cbb3829f"
      },
      "execution_count": 23,
      "outputs": [
        {
          "output_type": "stream",
          "name": "stdout",
          "text": [
            "\n",
            "Özdeğer 3.00 için doğrulama:\n",
            "A·v = [2.12132034 2.12132034]\n",
            "λ·v = [2.12132034 2.12132034]\n",
            "Eşit mi: True\n",
            "\n",
            "Özdeğer 1.00 için doğrulama:\n",
            "A·v = [-0.70710678  0.70710678]\n",
            "λ·v = [-0.70710678  0.70710678]\n",
            "Eşit mi: True\n"
          ]
        }
      ]
    },
    {
      "cell_type": "code",
      "source": [
        "origin = [0], [0]\n",
        "\n",
        "plt.quiver(origin, eigenvectors_numpy[0, :], eigenvectors_numpy[1, :],\n",
        "           color=['r', 'b'], angles='xy', scale_units='xy', scale=1, label='Özvektörler')\n",
        "plt.xlim(-2, 2)\n",
        "plt.ylim(-2, 2)\n",
        "plt.gca().set_aspect('equal')\n",
        "plt.grid(True)\n",
        "plt.axhline(0, color='gray', linewidth=0.5)\n",
        "plt.axvline(0, color='gray', linewidth=0.5)\n",
        "plt.title(\"Özvektörlerin Yönü\")\n",
        "plt.legend()\n",
        "plt.show()"
      ],
      "metadata": {
        "colab": {
          "base_uri": "https://localhost:8080/",
          "height": 452
        },
        "id": "ZIqGv6S-6u_9",
        "outputId": "a586588f-0e05-462d-88cd-4f2a7a0a33db"
      },
      "execution_count": 25,
      "outputs": [
        {
          "output_type": "display_data",
          "data": {
            "text/plain": [
              "<Figure size 640x480 with 1 Axes>"
            ],
            "image/png": "[encoded data removed]"
          },
          "metadata": {}
        }
      ]
    },
    {
      "cell_type": "markdown",
      "source": [
        "## ✅ Sonuç\n",
        "Bu örnekte, NumPy `eig` fonksiyonu kullanılmadan karakteristik denklem ile elde edilen özdeğerler, `np.linalg.eig` fonksiyonu tarafından elde edilenlerle karşılaştırıldı ve sonuçların uyumlu olduğu gözlemlendi.\n",
        "\n",
        "---\n",
        "\n",
        "## 🔗 Kaynaklar\n",
        "- [LucasBN GitHub Repo](https://github.com/LucasBN/Eigenvalues-and-Eigenvectors)\n",
        "- [NumPy `eig` Dokümantasyonu](https://numpy.org/doc/stable/reference/generated/numpy.linalg.eig.html)\n"
      ],
      "metadata": {
        "id": "eFurVuf44GYV"
      }
    }
  ]
}
