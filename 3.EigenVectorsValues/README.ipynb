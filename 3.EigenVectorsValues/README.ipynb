{
  "nbformat": 4,
  "nbformat_minor": 0,
  "metadata": {
    "colab": {
      "provenance": [],
      "authorship_tag": "ABX9TyN1Z/0d8uhLVwWS4cdMDEBx",
      "include_colab_link": true
    },
    "kernelspec": {
      "name": "python3",
      "display_name": "Python 3"
    },
    "language_info": {
      "name": "python"
    }
  },
  "cells": [
    {
      "cell_type": "markdown",
      "metadata": {
        "id": "view-in-github",
        "colab_type": "text"
      },
      "source": [
        "<a href=\"https://colab.research.google.com/github/SenaKymk/HSenaKymk_YZM212_lab_proje/blob/main/README.ipynb\" target=\"_parent\"><img src=\"https://colab.research.google.com/assets/colab-badge.svg\" alt=\"Open In Colab\"/></a>"
      ]
    },
    {
      "cell_type": "markdown",
      "source": [
        "# **1. Özdeğerler, Özvektörler**\n",
        "# *Kavramsal Tanımlar*\n",
        "**Özvektör (Eigenvector):**\n",
        " Bir matrisle çarpıldığında sadece skaler bir katsayı kadar yönü değişmeyen vektörlerdir.\n",
        "\n",
        "**Özdeğer (Eigenvalue):**\n",
        "\n",
        " Bu skaler katsayının kendisidir.\n",
        "\n",
        " Denklem: A * x = λ * x\n",
        "\n",
        "Burada A kare matris, x bir özvektör, λ ise karşılık gelen özdeğerdir."
      ],
      "metadata": {
        "id": "RpxIPAsesUwi"
      }
    },
    {
      "cell_type": "markdown",
      "source": [
        "# **2. Makine Öğrenmesindeki Kullanımlar:**\n",
        "\n",
        "## 1. PCA (Principal Component Analysis)\n",
        "- Çok boyutlu verilerin boyutunu azaltmak için kullanılır.\n",
        "- Kovaryans matrisinin özdeğerleri ve özvektörleri ile çalışılır.\n",
        "- Özvektörler: Yeni eksen yönlerini belirtir.\n",
        "- Özdeğerler: Bu eksenlerin önem derecesini gösterir.\n",
        "- Veri, en büyük özdeğere karşılık gelen eksenler boyunca projeksiyona uğratılır.\n",
        "\n",
        "## 2. SVD (Singular Value Decomposition)\n",
        "- Herhangi bir boyutlardaki matrisi 3 bileşene ayırır:  \n",
        "  $$ A = U \\cdot \\Sigma \\cdot V^T $$\n",
        "- \\( U \\): Orijinal uzaydaki ortonormal sütun vektörlerini içerir (sol özvektörler).\n",
        "- \\( \\Sigma \\): Diagonal matristir, pozitif ve azalan sırada sıralı singular değerler içerir.\n",
        "- \\( V^T \\): Özvektörlerin transpozu, çıkış uzayındaki yönleri temsil eder.\n",
        "- Sıkıştırma, gürültü azaltma ve boyut indirgemede etkilidir.\n",
        "\n",
        "## 3. Google PageRank\n",
        "- İnternetteki sayfalar arası geçişleri modelleyen büyük olasılık matrisleri ile çalışır.\n",
        "- Geçiş matrisi üzerinde dominant özvektör hesaplanır.\n",
        "- Bu özvektör, her sayfanın \"önem skorunu\" belirler.\n",
        "- Temel denklem: $$ P \\cdot x = x $$\n",
        "- Burada \\( x \\), PageRank skor vektörüdür.\n",
        "\n",
        "## 4. Spectral Clustering\n",
        "- Veriler arası benzerlik matrisi oluşturulur (örneğin Gaussian kernel ile).\n",
        "- Bu matrisin özdeğer ve özvektörleri hesaplanır.\n",
        "- İlk k adet özvektör, yeni öznitelik uzayı olarak kullanılır.\n",
        "- K-means gibi yöntemlerle bu yeni uzayda kümeleme yapılır.\n"
      ],
      "metadata": {
        "id": "3WS7BzsjwJvn"
      }
    },
    {
      "cell_type": "markdown",
      "source": [
        "### Karakteristik polinom:\n",
        "$$ |A - \\lambda I| = 0 $$  \n",
        "- Bu denklem özdeğerleri verir, ardından özvektörler çözülür.\n",
        "\n",
        "### Eigen Decomposition\n",
        "- Genel form: $$ A = X \\Lambda X^{-1} $$\n",
        "- Simetrik matrislerde: $$ A = Q \\Lambda Q^T $$ (Q ortogonal matristir)\n",
        "\n",
        "### SVD:\n",
        "- Genel form: $$ A = U \\Sigma V^T $$\n",
        "- Boyut indirgeme, bilgi kaybını minimize ederek veri sıkıştırmada kullanılır.\n",
        "\n",
        "### Vektör Normu:\n",
        "- $$ ||x|| = \\sqrt{x^T x} $$"
      ],
      "metadata": {
        "id": "bSNJMTLSw8kI"
      }
    },
    {
      "cell_type": "markdown",
      "source": [
        "# **3. NumPy `linalg.eig` Fonksiyonunu İnceleme:**\n",
        "\n",
        "NumPy'nin `linalg.eig` fonksiyonu, kare matrislerin özdeğerlerini ve özvektörlerini hesaplamada kullanılan güçlü bir lineer cebir aracıdır. Bu inceleme, hem fonksiyonun kullanıcı düzeyinde nasıl çalıştığını hem de `numpy/numpy` GitHub deposundaki kaynak kodlar üzerinden arka plandaki detayları kapsamlı biçimde açıklamaktadır.\n",
        "\n",
        "---\n",
        "\n",
        "## 📌 Fonksiyon Tanımı ve Kullanımı\n",
        "```python\n",
        "numpy.linalg.eig(a)\n",
        "```\n",
        "- Bu fonksiyon kare bir matrisin (veya matris yığınının) özdeğerlerini ve sağ özvektörlerini döndürür.\n",
        "\n",
        "| Parametre | Açıklama |\n",
        "|-----------|----------|\n",
        "| `a`       | (..., M, M) boyutlarında bir kare matris veya matris yığını |\n",
        "\n",
        "| Dönüş Değeri  | Açıklama |\n",
        "|----------------|----------|\n",
        "| `eigenvalues`  | (..., M) boyutunda — özdeğerleri içerir |\n",
        "| `eigenvectors` | (..., M, M) boyutunda — sütunları normalleştirilmiş özvektörlerdir |\n",
        "\n",
        "🔸 **Not:** Yakınsama olmazsa `LinAlgError` hatası yükselir.\n",
        "\n",
        "---\n",
        "\n",
        "## ⚙️ Python Seviyesi İncelemesi (`_linalg.py`)\n",
        "NumPy'nin `linalg.eig` fonksiyonu, üst düzey Python fonksiyonlarının bir sarmalayıcısıdır. Gerçek işlem `umath_linalg` modülüne paslanmadan önce bazı kontroller yapılır:\n",
        "\n",
        "| Adım | Açıklama |\n",
        "|------|----------|\n",
        "| 1 | `a, wrap = _makearray(a)` — Girdiyi ndarray formatına çevirir |\n",
        "| 2 | `_assert_stacked_2d(a)` — Matrisin en az 2 boyutlu olduğunu kontrol eder |\n",
        "| 3 | `_assert_stacked_square(a)` — Kare matris olup olmadığını kontrol eder |\n",
        "| 4 | `t, result_t = _commonType(a)` — Veri türünü belirler (float/complex) |\n",
        "| 5 | `signature = 'D->D'` veya `'d->d'` — uygun LAPACK fonksiyonunun seçilmesini sağlar |\n",
        "| 6 | `w, v = _umath_linalg.eig(...)` — Asıl hesaplama çağrısı yapılır |\n",
        "| 7 | `wrap(EigResult(...))` — Sonuçları uygun yapıya sokar ve döndürür |\n",
        "\n",
        "Bu adımlar Python seviyesinde giriş verisinin düzgün işlenmesini ve doğru LAPACK çağrısının yapılmasını garanti eder.\n",
        "\n",
        "---\n",
        "\n",
        "##  C/C++ Seviyesi İncelemesi (`umath_linalg.c.src`)\n",
        "\n",
        "Düşük seviyeli hesaplamalar `umath_linalg.c.src` içinde gerçekleşir. `eig` fonksiyonu şu şekilde tanımlanır:\n",
        "```c\n",
        "{\"eig\", \"(m,m)->(m),(m,m)\", FUNC_ARRAY_NAME(eig), eig_types, ...}\n",
        "```\n",
        "Bu satırda belirtilen yapı, fonksiyonun giriş ve çıkış şekillerini tanımlar:\n",
        "- Girdi: (m, m) kare matris\n",
        "- Çıktı: (m) özdeğerler, (m, m) özvektörler\n",
        "\n",
        "### 🧩 İşlem Adımları:\n",
        "1. `linearize_matrix` fonksiyonu ile giriş matrisi düz belleğe (tek boyutlu) çevrilir.\n",
        "2. `dgeev` (gerçek sayılar için) veya `zgeev` (karmaşık sayılar için) LAPACK fonksiyonu çağrılır.\n",
        "3. Hesaplama tamamlandıktan sonra `delinearize_matrix` fonksiyonu ile veriler matris formuna geri dönüştürülür.\n",
        "\n",
        "### 🔄 Kullanılan LAPACK Fonksiyonları:\n",
        "| Fonksiyon | Görevi |\n",
        "|-----------|--------|\n",
        "| `dgeev`   | double-precision gerçek matrisler için eigen çözümü |\n",
        "| `zgeev`   | complex matrisler için çözüm |\n",
        "| `FUNC_ARRAY_NAME(eig)` | doğru LAPACK fonksiyonunu seçmek için kullanılır |\n",
        "\n",
        "Bu C düzeyi yapı, Python kullanıcıları için son derece hızlı ve bellek verimli özdeğer hesaplamaları sağlar.\n",
        "\n",
        "---\n",
        "\n",
        "##  Kaynak Dosya Hiyerarşisi (GitHub Reposuna Göre)\n",
        "GitHub'daki `numpy/numpy/tree/main/numpy/linalg` dizininde yer alan önemli dosya ve klasörler:\n",
        "\n",
        "| Dosya/Klasör | Açıklama |\n",
        "|--------------|----------|\n",
        "| `linalg.py`  | Kullanıcıya sunulan API fonksiyonlarını içerir |\n",
        "| `_linalg.py` | Giriş kontrolü, hata yönetimi ve tür eşlemesi gibi işlemleri yapar |\n",
        "| `umath_linalg.c.src` | LAPACK çağrılarını içeren düşük seviyeli C fonksiyonlarını barındırır |\n",
        "| `tests/`     | Fonksiyonların doğruluğunu test eden birim testleri içerir |\n",
        "\n",
        "---\n",
        "\n",
        "## ✅ Sonuç ve Değerlendirme\n",
        "- NumPy `linalg.eig` fonksiyonu, arka planda karmaşık bir işleme sürecini kullanıcıdan gizleyerek basit bir API sunar.\n",
        "- Python düzeyinde esneklik ve hata kontrolü sağlanırken, C/C++ düzeyinde LAPACK tabanlı yüksek performanslı lineer cebir işlemleri gerçekleştirilir.\n",
        "- Gerek akademik çalışmalar gerekse büyük veri analitiği işlemleri için güvenilir bir çözümdür.\n",
        "\n",
        "---\n",
        "\n",
        "\n"
      ],
      "metadata": {
        "id": "goo4ZYPRyygg"
      }
    },
    {
      "cell_type": "markdown",
      "source": [
        "# **4. EigenVectorsValues Dosyası İnceleme:**\n",
        "\n",
        "Bu proje kapsamında, EigenVectorsValues.ipynb adlı dosyada NumPy'in linalg.eig fonksiyonu kullanılmadan, manuel olarak özdeğerlerin nasıl hesaplandığı gösterilmiştir. Bu uygulamada:\n",
        "\n",
        "- 2x2 boyutunda bir matris için karakteristik denklem kurulmuş,\n",
        "\n",
        "- Polinom katsayıları elde edilerek numpy.roots() fonksiyonu ile kökler yani özdeğerler hesaplanmıştır,\n",
        "\n",
        "- Aynı matris için numpy.linalg.eig fonksiyonu kullanılarak özdeğer ve özvektörler hesaplanmış ve iki yöntem karşılaştırılmıştır.\n",
        "\n"
      ],
      "metadata": {
        "id": "wBIq2Gto82b4"
      }
    },
    {
      "cell_type": "markdown",
      "source": [
        "## ✅ Sonuç ve Değerlendirme\n",
        "Manuel ve hazır fonksiyonlar kullanılarak yapılan analizler sonucunda:\n",
        "\n",
        "Her iki yöntemle elde edilen özdeğerler tamamen uyuşmuştur.\n",
        "\n",
        "NumPy'in eig fonksiyonu ile elde edilen özvektörler, doğrusal denklem\n",
        "\n",
        "𝐴\n",
        "𝑐\n",
        "𝑑\n",
        "𝑜\n",
        "𝑡\n",
        "𝑣\n",
        "=\n",
        "𝑙\n",
        "𝑎\n",
        "𝑚\n",
        "𝑏\n",
        "𝑑\n",
        "𝑎\n",
        "𝑐\n",
        "𝑑\n",
        "𝑜\n",
        "𝑡\n",
        "𝑣\n",
        "A\n",
        "cdotv=\n",
        "lambda\n",
        "cdotv\n",
        "eşitliğini sağlamaktadır.\n",
        "\n",
        "np.allclose() fonksiyonu ile yapılan sayısal karşılaştırmalar doğrultusunda, sonuçların sayısal olarak eşdeğer olduğu gözlemlenmiştir.\n",
        "\n",
        "Ayrıca özvektörler vektör alanında görselleştirilmiş ve doğrultularının doğru olduğu grafikle gösterilmiştir.\n",
        "\n",
        "*🎯 Sonuç Olarak*\n",
        "\n",
        "Bu çalışma, özdeğerlerin manuel ve hazır fonksiyonlarla nasıl hesaplandığını ve bu iki yöntemle elde edilen sonuçların birbiriyle nasıl karşılaştırılabileceğini göstermektedir.\n",
        "\n",
        "Manuel yöntem, temel matematiksel kavrayış açısından eğiticidir.\n",
        "\n",
        "NumPy linalg.eig fonksiyonu ise pratik, hızlı ve güvenilirdir; bilimsel hesaplamalarda doğrudan tercih edilebilir."
      ],
      "metadata": {
        "id": "wPj7kZY-9oXf"
      }
    },
    {
      "cell_type": "markdown",
      "source": [
        "## 🔗 Kaynakça\n",
        "\n",
        "- NumPy `eig` Fonksiyonu Dokümantasyonu:  \n",
        "  https://numpy.org/doc/stable/reference/generated/numpy.linalg.eig.html\n",
        "\n",
        "- NumPy `linalg` GitHub Kodu:  \n",
        "  https://github.com/numpy/numpy/tree/main/numpy/linalg\n",
        "\n",
        "- LucasBN GitHub - Manuel Özdeğer Hesaplama:  \n",
        "  https://github.com/LucasBN/Eigenvalues-and-Eigenvectors\n",
        "\n",
        "- Jason Brownlee – Machine Learning Mastery:  \n",
        "  https://machinelearningmastery.com/introduction-to-eigendecomposition-eigenvalues-and-eigenvectors/\n",
        "\n",
        "- Burak Tahtacıoğlu - Özvektör ve Özdeğer Blog Yazısı (TR):  \n",
        "  https://buraktahtacioglu.blogspot.com/2019/08/veri-bilimi-icin-lineer-cebir-linear.html\n",
        "\n",
        "- Matematik Dünyası – Özdeğer ve Özvektörler (TR):  \n",
        "  https://www.matematikdunyasi.org/2014/02/ozdegerler-ve-ozvektorler.html"
      ],
      "metadata": {
        "id": "1WtwPA-6-W_u"
      }
    }
  ]
}
